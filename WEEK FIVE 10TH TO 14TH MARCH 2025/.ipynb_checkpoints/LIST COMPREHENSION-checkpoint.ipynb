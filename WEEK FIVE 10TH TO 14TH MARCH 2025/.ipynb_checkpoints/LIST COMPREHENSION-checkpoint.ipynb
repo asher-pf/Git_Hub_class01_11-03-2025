{
 "cells": [
  {
   "cell_type": "code",
   "execution_count": 2,
   "id": "4ece05e6-88aa-4189-9918-54c84468b635",
   "metadata": {},
   "outputs": [],
   "source": [
    "nams= [\"John\",\"Mary\",\"George\",\"Hellen\"]"
   ]
  },
  {
   "cell_type": "code",
   "execution_count": 3,
   "id": "8759f100-a0bb-49bf-a4f7-b612163f5ef2",
   "metadata": {},
   "outputs": [
    {
     "data": {
      "text/plain": [
       "0"
      ]
     },
     "execution_count": 3,
     "metadata": {},
     "output_type": "execute_result"
    }
   ],
   "source": [
    "nams.index(\"John\")"
   ]
  },
  {
   "cell_type": "code",
   "execution_count": 4,
   "id": "5a7675a6-8434-4f44-bc27-8a1a82c18bf9",
   "metadata": {},
   "outputs": [
    {
     "name": "stdout",
     "output_type": "stream",
     "text": [
      "0\n",
      "1\n",
      "2\n",
      "3\n"
     ]
    }
   ],
   "source": [
    "for nam in nams:\n",
    "    print(nams.index(nam))"
   ]
  },
  {
   "cell_type": "code",
   "execution_count": 5,
   "id": "19e8d933-053e-4920-ad60-a1915b80167b",
   "metadata": {},
   "outputs": [
    {
     "data": {
      "text/plain": [
       "[0, 1, 2, 3]"
      ]
     },
     "execution_count": 5,
     "metadata": {},
     "output_type": "execute_result"
    }
   ],
   "source": [
    "lst_index = []\n",
    "for nam in nams:\n",
    "    lst_index.append(nams.index(nam))\n",
    "lst_index"
   ]
  },
  {
   "cell_type": "code",
   "execution_count": 6,
   "id": "643cf2e9-3fb4-489f-8c70-17ac819ad4e7",
   "metadata": {},
   "outputs": [
    {
     "data": {
      "text/plain": [
       "[0, 1, 2, 3]"
      ]
     },
     "execution_count": 6,
     "metadata": {},
     "output_type": "execute_result"
    }
   ],
   "source": [
    "[nams.index(nam) for nam in nams]"
   ]
  },
  {
   "cell_type": "code",
   "execution_count": 35,
   "id": "06057087-462f-402f-b335-37f2404bdb13",
   "metadata": {},
   "outputs": [
    {
     "data": {
      "text/plain": [
       "['JOHN', 'MARY', 'GEORGE', 'HELLEN']"
      ]
     },
     "execution_count": 35,
     "metadata": {},
     "output_type": "execute_result"
    }
   ],
   "source": [
    "names= [\"John\",\"Mary\",\"George\",\"Hellen\"]\n",
    "uppernames = []\n",
    "for nam in names:\n",
    "    uppernames.append(nam.upper())\n",
    "uppernames"
   ]
  },
  {
   "cell_type": "code",
   "execution_count": 39,
   "id": "1f5042e9-f361-4ee5-be92-e0c432837dd7",
   "metadata": {},
   "outputs": [
    {
     "data": {
      "text/plain": [
       "['JOHN', 'MARY', 'GEORGE', 'HELLEN']"
      ]
     },
     "execution_count": 39,
     "metadata": {},
     "output_type": "execute_result"
    }
   ],
   "source": [
    "[nam.upper() for nam in names]"
   ]
  },
  {
   "cell_type": "code",
   "execution_count": 8,
   "id": "9a1e4275-f355-4357-92bd-54257db8f738",
   "metadata": {},
   "outputs": [
    {
     "data": {
      "text/html": [
       "<div>\n",
       "<style scoped>\n",
       "    .dataframe tbody tr th:only-of-type {\n",
       "        vertical-align: middle;\n",
       "    }\n",
       "\n",
       "    .dataframe tbody tr th {\n",
       "        vertical-align: top;\n",
       "    }\n",
       "\n",
       "    .dataframe thead th {\n",
       "        text-align: right;\n",
       "    }\n",
       "</style>\n",
       "<table border=\"1\" class=\"dataframe\">\n",
       "  <thead>\n",
       "    <tr style=\"text-align: right;\">\n",
       "      <th></th>\n",
       "      <th>0</th>\n",
       "    </tr>\n",
       "  </thead>\n",
       "  <tbody>\n",
       "    <tr>\n",
       "      <th>0</th>\n",
       "      <td>JOHN</td>\n",
       "    </tr>\n",
       "    <tr>\n",
       "      <th>1</th>\n",
       "      <td>MARY</td>\n",
       "    </tr>\n",
       "    <tr>\n",
       "      <th>2</th>\n",
       "      <td>GEORGE</td>\n",
       "    </tr>\n",
       "    <tr>\n",
       "      <th>3</th>\n",
       "      <td>HELLEN</td>\n",
       "    </tr>\n",
       "  </tbody>\n",
       "</table>\n",
       "</div>"
      ],
      "text/plain": [
       "        0\n",
       "0    JOHN\n",
       "1    MARY\n",
       "2  GEORGE\n",
       "3  HELLEN"
      ]
     },
     "execution_count": 8,
     "metadata": {},
     "output_type": "execute_result"
    }
   ],
   "source": [
    "import pandas as pd\n",
    "uppersas= pd.DataFrame(uppersas)\n",
    "uppersas"
   ]
  },
  {
   "cell_type": "code",
   "execution_count": 9,
   "id": "ff051377-2d26-4458-8207-cb7c5862eb91",
   "metadata": {},
   "outputs": [],
   "source": [
    "# for ind in range(len(nams)):\n",
    "#     uppersas.append(nams[ind].upper())\n",
    "# uppersas"
   ]
  },
  {
   "cell_type": "code",
   "execution_count": 10,
   "id": "7018023b-f5af-4435-ab96-67d642607c07",
   "metadata": {},
   "outputs": [
    {
     "data": {
      "text/plain": [
       "range(0, 4)"
      ]
     },
     "execution_count": 10,
     "metadata": {},
     "output_type": "execute_result"
    }
   ],
   "source": [
    "range(len(nams))"
   ]
  },
  {
   "cell_type": "code",
   "execution_count": 11,
   "id": "b7c38d40-4edd-4ba1-8c0a-ba0a6dc410a4",
   "metadata": {},
   "outputs": [
    {
     "data": {
      "text/plain": [
       "'John'"
      ]
     },
     "execution_count": 11,
     "metadata": {},
     "output_type": "execute_result"
    }
   ],
   "source": [
    "nams[0]"
   ]
  },
  {
   "cell_type": "code",
   "execution_count": 12,
   "id": "0ec1afe6-ca03-464b-b7bf-e1cac3331d29",
   "metadata": {},
   "outputs": [],
   "source": [
    "nums = [1,4,18,19,11,23,27,28]\n",
    "prime_numbers = []\n",
    "\n",
    "for num in nums:\n",
    "    iterate_val = range(1,num-1)\n",
    "    dummy_list = []\n",
    "    for p in iterate_val:\n",
    "        if num%p==0:\n",
    "            dummy_list.append(p)\n",
    "    if(len(dummy_list))>1:\n",
    "        prime_numbers.append(num)\n"
   ]
  },
  {
   "cell_type": "code",
   "execution_count": 13,
   "id": "f653e400-8757-4bfb-b8f9-28515331165f",
   "metadata": {},
   "outputs": [
    {
     "data": {
      "text/plain": [
       "[4, 18, 27, 28]"
      ]
     },
     "execution_count": 13,
     "metadata": {},
     "output_type": "execute_result"
    }
   ],
   "source": [
    "prime_numbers"
   ]
  },
  {
   "cell_type": "code",
   "execution_count": 14,
   "id": "de82c00b-2046-40ba-8f0a-e13331cdbe29",
   "metadata": {},
   "outputs": [],
   "source": [
    "even_numnbers= []\n",
    "for num in nums:\n",
    "    if num%2==0:\n",
    "        even_numnbers.append(num)"
   ]
  },
  {
   "cell_type": "code",
   "execution_count": 15,
   "id": "42b3b059-fc38-414c-aa4f-f522ca75d235",
   "metadata": {},
   "outputs": [
    {
     "data": {
      "text/plain": [
       "[4, 18, 28]"
      ]
     },
     "execution_count": 15,
     "metadata": {},
     "output_type": "execute_result"
    }
   ],
   "source": [
    "even_numnbers"
   ]
  },
  {
   "cell_type": "code",
   "execution_count": 43,
   "id": "8c2bb325-baae-4326-8c69-92369dc42801",
   "metadata": {},
   "outputs": [
    {
     "data": {
      "text/plain": [
       "[4, 18, 28]"
      ]
     },
     "execution_count": 43,
     "metadata": {},
     "output_type": "execute_result"
    }
   ],
   "source": [
    "ven_comp = [num for num in even_numnbers if num%2==0]\n",
    "ven_comp"
   ]
  },
  {
   "cell_type": "code",
   "execution_count": 16,
   "id": "f10cefea-a139-4a28-a4f6-a13c61aabbd7",
   "metadata": {},
   "outputs": [],
   "source": [
    "odd_numnbers= []\n",
    "for num in nums:\n",
    "    if not num%2==0:\n",
    "        odd_numnbers.append(num)"
   ]
  },
  {
   "cell_type": "code",
   "execution_count": 17,
   "id": "2ca8dc87-b5fe-42bb-916f-f73ed2ebc5de",
   "metadata": {},
   "outputs": [
    {
     "data": {
      "text/plain": [
       "[1, 19, 11, 23, 27]"
      ]
     },
     "execution_count": 17,
     "metadata": {},
     "output_type": "execute_result"
    }
   ],
   "source": [
    "odd_numnbers"
   ]
  },
  {
   "cell_type": "code",
   "execution_count": 49,
   "id": "e754f80f-d3f4-40e5-ac83-586bca650ab3",
   "metadata": {},
   "outputs": [
    {
     "data": {
      "text/plain": [
       "[1, 19, 11, 23]"
      ]
     },
     "execution_count": 49,
     "metadata": {},
     "output_type": "execute_result"
    }
   ],
   "source": [
    "[num for num in nums if \n",
    " len([p for p in range(1,num-1) if num%p==0 and p>1])<1]"
   ]
  },
  {
   "cell_type": "code",
   "execution_count": 55,
   "id": "612245ae-209c-47c8-8fd4-c89791cb1147",
   "metadata": {},
   "outputs": [],
   "source": [
    "def prime_vals(n):\n",
    "    nums=range(1,n+1)\n",
    "    prime_vals=[num for num in nums if\n",
    "    len([p for p in range(1,num-1) if num%p==0 and p>1])<1]\n",
    "    retun(prime_vals)"
   ]
  },
  {
   "cell_type": "code",
   "execution_count": 59,
   "id": "aaa112d3-3ad6-406a-a546-940f5bdc2a3b",
   "metadata": {},
   "outputs": [],
   "source": [
    "nams=nams\n",
    "index_val = [i for i in range(len(nams))]"
   ]
  },
  {
   "cell_type": "raw",
   "id": "60c47c98-a144-4ca1-b141-4ae4ec92486b",
   "metadata": {},
   "source": [
    "zip(names, index_val)"
   ]
  },
  {
   "cell_type": "code",
   "execution_count": 63,
   "id": "c04fa2ed-7767-4020-9a82-3f431bddbe06",
   "metadata": {},
   "outputs": [
    {
     "data": {
      "text/plain": [
       "{'John': 0, 'Mary': 1, 'George': 2, 'Hellen': 3}"
      ]
     },
     "execution_count": 63,
     "metadata": {},
     "output_type": "execute_result"
    }
   ],
   "source": [
    "{k:v for k,v in zip(nams,index_val)}"
   ]
  },
  {
   "cell_type": "code",
   "execution_count": 65,
   "id": "1ce04dfe-3570-4c9f-93da-89ec1da4957d",
   "metadata": {},
   "outputs": [
    {
     "data": {
      "text/plain": [
       "{'John': 0, 'Mary': 1, 'George': 2, 'Hellen': 3}"
      ]
     },
     "execution_count": 65,
     "metadata": {},
     "output_type": "execute_result"
    }
   ],
   "source": [
    "dict_val={k:v for k,v in zip(nams,index_val)}\n",
    "dict_val"
   ]
  },
  {
   "cell_type": "code",
   "execution_count": 77,
   "id": "288335bd-9c78-4304-a99c-9d738d01a493",
   "metadata": {},
   "outputs": [
    {
     "data": {
      "text/plain": [
       "24      John\n",
       "28      Mary\n",
       "25    George\n",
       "26    Hellen\n",
       "dtype: object"
      ]
     },
     "execution_count": 77,
     "metadata": {},
     "output_type": "execute_result"
    }
   ],
   "source": [
    "names= [\"John\",\"Mary\",\"George\",\"Hellen\"]\n",
    "age= [24,28,25,26]\n",
    "data=pd.Series(names,age)\n",
    "data"
   ]
  },
  {
   "cell_type": "markdown",
   "id": "27fc8bbd-eeb9-4aa6-af25-dfc615040aec",
   "metadata": {},
   "source": [
    "# Exercise"
   ]
  },
  {
   "cell_type": "markdown",
   "id": "3bfd8782-ec7b-4423-898f-aa81a35e39ef",
   "metadata": {},
   "source": [
    "## 1. Given a list of integers, [1, 2, 3, 4, 5], write a list comprehension that returns a new\n",
    "list where each number is squared, cubed and another one as power of itself."
   ]
  },
  {
   "cell_type": "code",
   "execution_count": 127,
   "id": "5cab7c1b-628a-4106-a015-6f17a4b79167",
   "metadata": {},
   "outputs": [],
   "source": [
    "import numpy as np\n",
    "df = [1,2,3,4,5]"
   ]
  },
  {
   "cell_type": "code",
   "execution_count": 128,
   "id": "8def9c08-21a1-4ae8-b2fa-a9e4d4f997f5",
   "metadata": {},
   "outputs": [],
   "source": [
    "def compute(df):\n",
    "    sqr  = [x ** 2 for x in df]\n",
    "    cube = [x ** 3 for x in df]\n",
    "    power = [x ** x for x in df]\n",
    "    return sqrt,cube,power\n",
    "sqr,cube,power = compute(df)"
   ]
  },
  {
   "cell_type": "code",
   "execution_count": 131,
   "id": "1fef2bce-b1c9-45b4-ae99-46eb1a64e327",
   "metadata": {},
   "outputs": [
    {
     "name": "stdout",
     "output_type": "stream",
     "text": [
      "[1, 2, 3, 4, 5]\n",
      "[1.0, 1.4142135623730951, 1.7320508075688772, 2.0, 2.23606797749979]\n",
      "[1, 8, 27, 64, 125]\n",
      "[1, 4, 27, 256, 3125]\n"
     ]
    }
   ],
   "source": [
    "print(df)\n",
    "print(sqr)\n",
    "print(cube)\n",
    "print(power)"
   ]
  },
  {
   "cell_type": "markdown",
   "id": "78a10e41-d92c-4dca-ac36-dc6b098c2b69",
   "metadata": {},
   "source": [
    "## 2a Write a list comprehension that filters out only the even numbers from the list [10,15, 20, 25, 30, 35].\n"
   ]
  },
  {
   "cell_type": "code",
   "execution_count": 140,
   "id": "837779ea-b638-4c33-af66-a33aad564d51",
   "metadata": {},
   "outputs": [],
   "source": [
    "numbers =  [10, 15, 20, 25, 30, 35]\n",
    "even_numnbers= []\n",
    "for num in numbers:\n",
    "    if num%2==0:\n",
    "        even_numnbers.append(num)"
   ]
  },
  {
   "cell_type": "code",
   "execution_count": 142,
   "id": "56242d29-dedd-4162-9d31-3db3c8835e7f",
   "metadata": {},
   "outputs": [
    {
     "data": {
      "text/plain": [
       "[10, 20, 30]"
      ]
     },
     "execution_count": 142,
     "metadata": {},
     "output_type": "execute_result"
    }
   ],
   "source": [
    "even_list = [num for num in even_numnbers if num%2==0]\n",
    "even_list"
   ]
  },
  {
   "cell_type": "markdown",
   "id": "1301df65-d92f-4eeb-962c-be6866a9d5bd",
   "metadata": {},
   "source": [
    "## 2b Write a list comprehenion/for loop that retuns every 4th value in range of 1 to 100"
   ]
  },
  {
   "cell_type": "code",
   "execution_count": 145,
   "id": "95f63891-ef03-4922-88ec-1d13e7ab68f6",
   "metadata": {},
   "outputs": [
    {
     "name": "stdout",
     "output_type": "stream",
     "text": [
      "1\n",
      "5\n",
      "9\n",
      "13\n",
      "17\n",
      "21\n",
      "25\n",
      "29\n",
      "33\n",
      "37\n",
      "41\n",
      "45\n",
      "49\n",
      "53\n",
      "57\n",
      "61\n",
      "65\n",
      "69\n",
      "73\n",
      "77\n",
      "81\n",
      "85\n",
      "89\n",
      "93\n",
      "97\n"
     ]
    }
   ],
   "source": [
    "for i in range(1,101,4):\n",
    "    print(i)"
   ]
  },
  {
   "cell_type": "code",
   "execution_count": 150,
   "id": "77d491d7-a76d-4c71-9aa2-24fdb1b10bb6",
   "metadata": {},
   "outputs": [
    {
     "name": "stdout",
     "output_type": "stream",
     "text": [
      "[1, 5, 9, 13, 17, 21, 25, 29, 33, 37, 41, 45, 49, 53, 57, 61, 65, 69, 73, 77, 81, 85, 89, 93, 97]\n"
     ]
    }
   ],
   "source": [
    "fth_value = [i for i in range(1,101,4)]\n",
    "print(fth_value)"
   ]
  },
  {
   "cell_type": "markdown",
   "id": "7725b5d1-8d20-46cb-8e7b-119620423e87",
   "metadata": {},
   "source": [
    "## 3a. You have a list of strings, [\"apple\", \"banana\", \"cherry\"]. Write a list comprehension that converts each string to uppercase.\n"
   ]
  },
  {
   "cell_type": "code",
   "execution_count": 163,
   "id": "42a41e1c-a467-4542-8887-b19fc6cfecec",
   "metadata": {},
   "outputs": [],
   "source": [
    "fruits = [\"apple\", \"banana\", \"cherry\"]"
   ]
  },
  {
   "cell_type": "code",
   "execution_count": 167,
   "id": "f14d8537-d0b3-4d8c-a063-90b8ad0fb6a3",
   "metadata": {},
   "outputs": [
    {
     "name": "stdout",
     "output_type": "stream",
     "text": [
      "['APPLE', 'BANANA', 'CHERRY']\n"
     ]
    }
   ],
   "source": [
    "fruits_upper = [word.upper() for word in fruits]\n",
    "print(fruits_upper)"
   ]
  },
  {
   "cell_type": "markdown",
   "id": "1493af78-f35f-4524-8ff5-8e664bd300d7",
   "metadata": {},
   "source": [
    "## 3b. Now create a dictionary comprehension to output the fruit as key and length of each character in the fruit as value\n"
   ]
  },
  {
   "cell_type": "code",
   "execution_count": null,
   "id": "e3d59616-f5b9-4128-89d1-c915c2d9a039",
   "metadata": {},
   "outputs": [],
   "source": [
    "fruits = ['apple', 'banana', 'cherry', 'date']\n",
    "fruit_lengths = {fruit: len(fruit) for fruit in fruits}\n",
    "print(fruit_lengths)"
   ]
  },
  {
   "cell_type": "markdown",
   "id": "b4068755-0223-48a5-bf3a-896d5db1a7bb",
   "metadata": {},
   "source": [
    "## 4. List comprehension that returns \"even\" for each even number, and \"odd\" for each odd number from a list."
   ]
  },
  {
   "cell_type": "code",
   "execution_count": null,
   "id": "4a6e9690-ecd1-463c-a5be-21c8fd9faf56",
   "metadata": {},
   "outputs": [],
   "source": [
    "numbers = [1, 2, 3, 4, 5, 6]\n",
    "even_odd = [\"even\" if num % 2 == 0 else \"odd\" for num in numbers]\n",
    "print(even_odd)"
   ]
  },
  {
   "cell_type": "markdown",
   "id": "c99f1ef1-aabb-48f5-9cdb-e652623c384f",
   "metadata": {},
   "source": [
    "## 5a. List comprehension that extracts the first letter from each word"
   ]
  },
  {
   "cell_type": "code",
   "execution_count": 7,
   "id": "00ded341-0f04-4b4c-bbda-4aebdb737397",
   "metadata": {},
   "outputs": [
    {
     "name": "stdout",
     "output_type": "stream",
     "text": [
      "['J', 'J', 'E', 'B', 'C']\n"
     ]
    }
   ],
   "source": [
    "words = [\"John\", \"Jane\", \"Erick\", \"Benard\", \"Comprehension\"]\n",
    "first_letters = [word[0] for word in words]\n",
    "print(first_letters)"
   ]
  },
  {
   "cell_type": "markdown",
   "id": "13477077-3a56-4e6a-9dd9-b615e64d65cc",
   "metadata": {},
   "source": [
    "## 5b. Save the outputs from 5a as a dictionary, using the name as key and first character as value"
   ]
  },
  {
   "cell_type": "code",
   "execution_count": 10,
   "id": "f4d258db-3d40-424c-a13b-2874d34d6029",
   "metadata": {},
   "outputs": [
    {
     "name": "stdout",
     "output_type": "stream",
     "text": [
      "{'John': 'J', 'Jane': 'J', 'Erick': 'E', 'Benard': 'B', 'Comprehension': 'C'}\n"
     ]
    }
   ],
   "source": [
    "name_first_letter = {word: word[0] for word in words}\n",
    "print(name_first_letter)"
   ]
  },
  {
   "cell_type": "markdown",
   "id": "8969e22f-bdb5-4832-b809-36e1c3b1aa23",
   "metadata": {},
   "source": [
    "## 5c. Convert the outputs from 3b, 4, 5a, and 5b into functions and test them."
   ]
  },
  {
   "cell_type": "code",
   "execution_count": 13,
   "id": "51e2bfbf-893e-47f6-b650-4cd0be0c7ae0",
   "metadata": {},
   "outputs": [
    {
     "name": "stdout",
     "output_type": "stream",
     "text": [
      "{'apple': 5, 'banana': 6, 'cherry': 6, 'date': 4}\n",
      "['odd', 'even', 'odd', 'even', 'odd', 'even']\n",
      "['J', 'J', 'E', 'B', 'C']\n",
      "{'John': 'J', 'Jane': 'J', 'Erick': 'E', 'Benard': 'B', 'Comprehension': 'C'}\n"
     ]
    }
   ],
   "source": [
    "# Function for 3b: Fruit lengths\n",
    "def fruit_lengths(fruits):\n",
    "    return {fruit: len(fruit) for fruit in fruits}\n",
    "\n",
    "# Function for 4: Even or Odd\n",
    "def even_odd_status(numbers):\n",
    "    return [\"even\" if num % 2 == 0 else \"odd\" for num in numbers]\n",
    "\n",
    "# Function for 5a: First letter from each word\n",
    "def first_letters(words):\n",
    "    return [word[0] for word in words]\n",
    "\n",
    "# Function for 5b: Dictionary of names and first letters\n",
    "def name_first_letter(words):\n",
    "    return {word: word[0] for word in words}\n",
    "\n",
    "# Testing the functions\n",
    "print(fruit_lengths(['apple', 'banana', 'cherry', 'date']))\n",
    "print(even_odd_status([1, 2, 3, 4, 5, 6]))\n",
    "print(first_letters([\"John\", \"Jane\", \"Erick\", \"Benard\", \"Comprehension\"]))\n",
    "print(name_first_letter([\"John\", \"Jane\", \"Erick\", \"Benard\", \"Comprehension\"]))"
   ]
  },
  {
   "cell_type": "markdown",
   "id": "571878d2-543e-4d21-9fa5-ec716895e80f",
   "metadata": {},
   "source": [
    "## 6. Create a dictionary containing lists for 4 attributes (full name, age, weight, location, gender) of 10 students."
   ]
  },
  {
   "cell_type": "code",
   "execution_count": 16,
   "id": "fcf6ffb0-78d1-4299-8d09-56918407e680",
   "metadata": {},
   "outputs": [
    {
     "name": "stdout",
     "output_type": "stream",
     "text": [
      "{'full_name': ['John Doe', 'Jane Smith', 'Erick Brown', 'Benard White', 'Comprehension Green', 'Alice Blue', 'Bob Red', 'Charlie Black', 'David Yellow', 'Eva Purple'], 'age': [20, 22, 21, 23, 24, 25, 26, 27, 28, 29], 'weight': [70, 60, 75, 80, 65, 55, 72, 78, 68, 63], 'location': ['New York', 'California', 'Texas', 'Florida', 'Nevada', 'Oregon', 'Arizona', 'Illinois', 'Ohio', 'Michigan'], 'gender': ['Male', 'Female', 'Male', 'Male', 'Female', 'Female', 'Male', 'Male', 'Male', 'Female']}\n"
     ]
    }
   ],
   "source": [
    "students_data = {\n",
    "    \"full_name\": [\"John Doe\", \"Jane Smith\", \"Erick Brown\", \"Benard White\", \"Comprehension Green\", \"Alice Blue\", \"Bob Red\", \"Charlie Black\", \"David Yellow\", \"Eva Purple\"],\n",
    "    \"age\": [20, 22, 21, 23, 24, 25, 26, 27, 28, 29],\n",
    "    \"weight\": [70, 60, 75, 80, 65, 55, 72, 78, 68, 63],\n",
    "    \"location\": [\"New York\", \"California\", \"Texas\", \"Florida\", \"Nevada\", \"Oregon\", \"Arizona\", \"Illinois\", \"Ohio\", \"Michigan\"],\n",
    "    \"gender\": [\"Male\", \"Female\", \"Male\", \"Male\", \"Female\", \"Female\", \"Male\", \"Male\", \"Male\", \"Female\"]\n",
    "}\n",
    "\n",
    "print(students_data)"
   ]
  },
  {
   "cell_type": "markdown",
   "id": "80091cf8-e9a7-482e-82c1-c2bc0547c1e7",
   "metadata": {},
   "source": [
    "## 7. Convert the output from number 6 into a pandas dataframe."
   ]
  },
  {
   "cell_type": "code",
   "execution_count": 19,
   "id": "7c87e1a2-cea9-4cda-bb51-c7f6d0cc8582",
   "metadata": {},
   "outputs": [
    {
     "name": "stdout",
     "output_type": "stream",
     "text": [
      "             full_name  age  weight    location  gender\n",
      "0             John Doe   20      70    New York    Male\n",
      "1           Jane Smith   22      60  California  Female\n",
      "2          Erick Brown   21      75       Texas    Male\n",
      "3         Benard White   23      80     Florida    Male\n",
      "4  Comprehension Green   24      65      Nevada  Female\n",
      "5           Alice Blue   25      55      Oregon  Female\n",
      "6              Bob Red   26      72     Arizona    Male\n",
      "7        Charlie Black   27      78    Illinois    Male\n",
      "8         David Yellow   28      68        Ohio    Male\n",
      "9           Eva Purple   29      63    Michigan  Female\n"
     ]
    }
   ],
   "source": [
    "import pandas as pd\n",
    "df = pd.DataFrame(students_data)\n",
    "print(df)"
   ]
  },
  {
   "cell_type": "markdown",
   "id": "3ea571d9-7136-4ba2-8a67-a775c84ea245",
   "metadata": {},
   "source": [
    "## 8. Create a new dictionary with the name of students as keys and their gender as values using dictionary comprehension."
   ]
  },
  {
   "cell_type": "code",
   "execution_count": 22,
   "id": "158aa8b0-81ca-41d3-9bb2-1c465fc1b35f",
   "metadata": {},
   "outputs": [
    {
     "name": "stdout",
     "output_type": "stream",
     "text": [
      "{'John Doe': 'Male', 'Jane Smith': 'Female', 'Erick Brown': 'Male', 'Benard White': 'Male', 'Comprehension Green': 'Female', 'Alice Blue': 'Female', 'Bob Red': 'Male', 'Charlie Black': 'Male', 'David Yellow': 'Male', 'Eva Purple': 'Female'}\n"
     ]
    }
   ],
   "source": [
    "name_gender = {students_data[\"full_name\"][i]: students_data[\"gender\"][i] for i in range(len(students_data[\"full_name\"]))}\n",
    "print(name_gender)"
   ]
  }
 ],
 "metadata": {
  "kernelspec": {
   "display_name": "Python [conda env:base] *",
   "language": "python",
   "name": "conda-base-py"
  },
  "language_info": {
   "codemirror_mode": {
    "name": "ipython",
    "version": 3
   },
   "file_extension": ".py",
   "mimetype": "text/x-python",
   "name": "python",
   "nbconvert_exporter": "python",
   "pygments_lexer": "ipython3",
   "version": "3.10.9"
  }
 },
 "nbformat": 4,
 "nbformat_minor": 5
}
