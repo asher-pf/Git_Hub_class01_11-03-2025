{
 "cells": [
  {
   "cell_type": "code",
   "execution_count": 1,
   "id": "1b01b78a-0dbf-4359-9b13-34ad7a6bb87e",
   "metadata": {},
   "outputs": [],
   "source": [
    "####Pesonal Details"
   ]
  },
  {
   "cell_type": "code",
   "execution_count": 3,
   "id": "b2d20d16-7258-4636-9404-ded812243811",
   "metadata": {},
   "outputs": [],
   "source": [
    "Jon={\"Full Name\": \"John Ogula Namacha\",\n",
    "\"Age\": 32,\n",
    "\"Country\": \"Kenya\",\n",
    "\"Marrital Status\": \"Complicated\"}"
   ]
  },
  {
   "cell_type": "code",
   "execution_count": 4,
   "id": "f22912b3-8ad0-4850-a99b-3d3032627476",
   "metadata": {},
   "outputs": [
    {
     "data": {
      "text/plain": [
       "'John Ogula Namacha'"
      ]
     },
     "execution_count": 4,
     "metadata": {},
     "output_type": "execute_result"
    }
   ],
   "source": [
    "Jon[\"Full Name\"]"
   ]
  },
  {
   "cell_type": "code",
   "execution_count": null,
   "id": "73783370-99cc-4c2e-9aee-0b0d63a4261e",
   "metadata": {},
   "outputs": [],
   "source": []
  }
 ],
 "metadata": {
  "kernelspec": {
   "display_name": "Python [conda env:base] *",
   "language": "python",
   "name": "conda-base-py"
  },
  "language_info": {
   "codemirror_mode": {
    "name": "ipython",
    "version": 3
   },
   "file_extension": ".py",
   "mimetype": "text/x-python",
   "name": "python",
   "nbconvert_exporter": "python",
   "pygments_lexer": "ipython3",
   "version": "3.10.9"
  }
 },
 "nbformat": 4,
 "nbformat_minor": 5
}
